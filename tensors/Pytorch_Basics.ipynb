{
  "nbformat": 4,
  "nbformat_minor": 0,
  "metadata": {
    "colab": {
      "name": "Pytorch Basics.ipynb",
      "provenance": [],
      "collapsed_sections": [],
      "authorship_tag": "ABX9TyNh5fNKDQhjzqYJA27xSICe",
      "include_colab_link": true
    },
    "kernelspec": {
      "name": "python3",
      "display_name": "Python 3"
    },
    "accelerator": "GPU"
  },
  "cells": [
    {
      "cell_type": "markdown",
      "metadata": {
        "id": "view-in-github",
        "colab_type": "text"
      },
      "source": [
        "<a href=\"https://colab.research.google.com/github/poojamahajan0712/medium_blog/blob/master/tensors/Pytorch_Basics.ipynb\" target=\"_parent\"><img src=\"https://colab.research.google.com/assets/colab-badge.svg\" alt=\"Open In Colab\"/></a>"
      ]
    },
    {
      "cell_type": "markdown",
      "metadata": {
        "id": "2fIhxYGkD51Z",
        "colab_type": "text"
      },
      "source": [
        "Pytorch Basics"
      ]
    },
    {
      "cell_type": "code",
      "metadata": {
        "id": "hD6Y7L2TD49B",
        "colab_type": "code",
        "colab": {}
      },
      "source": [
        "import torch\n",
        "import numpy as np"
      ],
      "execution_count": null,
      "outputs": []
    },
    {
      "cell_type": "markdown",
      "metadata": {
        "id": "5ltzRaYnEBZx",
        "colab_type": "text"
      },
      "source": [
        ""
      ]
    },
    {
      "cell_type": "code",
      "metadata": {
        "id": "VyhslgoSEF86",
        "colab_type": "code",
        "colab": {
          "base_uri": "https://localhost:8080/",
          "height": 68
        },
        "outputId": "d524cf1f-366b-4afa-ce69-234fa8c49fb0"
      },
      "source": [
        "#rank-2 tensor with zeroes\n",
        "torch.zeros(3, 4)"
      ],
      "execution_count": null,
      "outputs": [
        {
          "output_type": "execute_result",
          "data": {
            "text/plain": [
              "tensor([[0., 0., 0., 0.],\n",
              "        [0., 0., 0., 0.],\n",
              "        [0., 0., 0., 0.]])"
            ]
          },
          "metadata": {
            "tags": []
          },
          "execution_count": 6
        }
      ]
    },
    {
      "cell_type": "code",
      "metadata": {
        "id": "wuVS8wGWEQ-z",
        "colab_type": "code",
        "colab": {
          "base_uri": "https://localhost:8080/",
          "height": 136
        },
        "outputId": "4495685c-4d3b-4435-ded3-4a10ea096549"
      },
      "source": [
        "#rank-3 tensor , with random numbers\n",
        "torch.rand(2, 3, 4)"
      ],
      "execution_count": null,
      "outputs": [
        {
          "output_type": "execute_result",
          "data": {
            "text/plain": [
              "tensor([[[0.2941, 0.4241, 0.6938, 0.4778],\n",
              "         [0.4725, 0.0579, 0.0536, 0.5375],\n",
              "         [0.5141, 0.6664, 0.2438, 0.7949]],\n",
              "\n",
              "        [[0.6658, 0.1356, 0.9488, 0.5355],\n",
              "         [0.3033, 0.8662, 0.8368, 0.1256],\n",
              "         [0.0924, 0.7410, 0.3781, 0.6503]]])"
            ]
          },
          "metadata": {
            "tags": []
          },
          "execution_count": 4
        }
      ]
    },
    {
      "cell_type": "code",
      "metadata": {
        "id": "odFDkgjIEVfE",
        "colab_type": "code",
        "colab": {
          "base_uri": "https://localhost:8080/",
          "height": 102
        },
        "outputId": "a0ef941d-9fac-498b-85b8-b906ba0f8ccb"
      },
      "source": [
        "## Understanding size() and shape \n",
        "t=torch.tensor([[0.1, 1.2], [2.2, 3.1], [4.9, 5.2]])\n",
        "print(t)\n",
        "\n",
        "print(\"Using size()\",t.size())\n",
        "print(\"Using shape\",t.shape)"
      ],
      "execution_count": null,
      "outputs": [
        {
          "output_type": "stream",
          "text": [
            "tensor([[0.1000, 1.2000],\n",
            "        [2.2000, 3.1000],\n",
            "        [4.9000, 5.2000]])\n",
            "Using size() torch.Size([3, 2])\n",
            "Using shape torch.Size([3, 2])\n"
          ],
          "name": "stdout"
        }
      ]
    },
    {
      "cell_type": "code",
      "metadata": {
        "id": "cRAarxupfOT5",
        "colab_type": "code",
        "colab": {
          "base_uri": "https://localhost:8080/",
          "height": 51
        },
        "outputId": "fcab1b0a-508b-4c1e-fcf9-9020f1649b61"
      },
      "source": [
        "## Understanding fill_\n",
        "t1=torch.tensor([22,33])\n",
        "print(\"Tensor \",t1)\n",
        "t1.fill_(99)\n",
        "print(\"Tensor after fill_ operation \",t1)"
      ],
      "execution_count": null,
      "outputs": [
        {
          "output_type": "stream",
          "text": [
            "Tensor  tensor([22, 33])\n",
            "Tensor after fill_ operation  tensor([99, 99])\n"
          ],
          "name": "stdout"
        }
      ]
    },
    {
      "cell_type": "code",
      "metadata": {
        "id": "3RJZId-pffMN",
        "colab_type": "code",
        "colab": {
          "base_uri": "https://localhost:8080/",
          "height": 119
        },
        "outputId": "e837bdd3-c0e5-46da-ad49-efcfd17ee8c8"
      },
      "source": [
        "## Tensor/Numpy /Pytorch Interoperability\n",
        "\n",
        "# Simple Python List\n",
        "python_list = [3, 22]\n",
        "# Create a numpy array from python list\n",
        "numpy_array = np.array(python_list)\n",
        "\n",
        "# 1. Create a torch Tensor from python list\n",
        "tensor_from_list = torch.tensor(python_list)\n",
        "\n",
        "# 2. Create a torch Tensor from Numpy array\n",
        "tensor_from_array = torch.tensor(numpy_array)\n",
        "\n",
        "# 3. Another way to create a torch Tensor from Numpy array (share same storage)\n",
        "tensor_from_array_v2 = torch.from_numpy(numpy_array)\n",
        "\n",
        "# 4. Convert torch tensor to numpy array\n",
        "array_from_tensor = tensor_from_array.numpy()\n",
        "\n",
        "print('List:   ', python_list)\n",
        "print('Array:  ', numpy_array)\n",
        "print('Tensor: ', tensor_from_list)\n",
        "print('Tensor: ', tensor_from_array)\n",
        "print('Tensor: ', tensor_from_array_v2)\n",
        "print('Array:  ', array_from_tensor)"
      ],
      "execution_count": null,
      "outputs": [
        {
          "output_type": "stream",
          "text": [
            "List:    [3, 22]\n",
            "Array:   [ 3 22]\n",
            "Tensor:  tensor([ 3, 22])\n",
            "Tensor:  tensor([ 3, 22])\n",
            "Tensor:  tensor([ 3, 22])\n",
            "Array:   [ 3 22]\n"
          ],
          "name": "stdout"
        }
      ]
    },
    {
      "cell_type": "code",
      "metadata": {
        "id": "JweNV8L6hABa",
        "colab_type": "code",
        "colab": {
          "base_uri": "https://localhost:8080/",
          "height": 136
        },
        "outputId": "8564f102-d9c0-41f3-a200-a9869f58b9f6"
      },
      "source": [
        "## DataTypes\n",
        "\n",
        "tensor = torch.ones(2, 3)\n",
        "print('Tensor with default type: ', tensor)\n",
        "\n",
        "tensor = torch.ones(3, 2, dtype=torch.float16)\n",
        "print('Tensor with 16-bit float: ', tensor)\n",
        "\n",
        "tensor = torch.ones(2, 3, dtype=torch.bool)\n",
        "print('Tensor with boolean data: ', tensor)"
      ],
      "execution_count": null,
      "outputs": [
        {
          "output_type": "stream",
          "text": [
            "Tensor with default type:  tensor([[1., 1., 1.],\n",
            "        [1., 1., 1.]])\n",
            "Tensor with 16-bit float:  tensor([[1., 1.],\n",
            "        [1., 1.],\n",
            "        [1., 1.]], dtype=torch.float16)\n",
            "Tensor with boolean data:  tensor([[True, True, True],\n",
            "        [True, True, True]])\n"
          ],
          "name": "stdout"
        }
      ]
    },
    {
      "cell_type": "code",
      "metadata": {
        "id": "edllFeZ4h9eZ",
        "colab_type": "code",
        "colab": {
          "base_uri": "https://localhost:8080/",
          "height": 68
        },
        "outputId": "7884021b-1d06-41bc-bc49-66ad70c35ecc"
      },
      "source": [
        "# Indexing  \n",
        " \n",
        "x = torch.tensor([[1, 2, 3], [4, 5, 6]])\n",
        "print(x[1][2])\n",
        "x[0][1] = 8\n",
        "print(x)"
      ],
      "execution_count": null,
      "outputs": [
        {
          "output_type": "stream",
          "text": [
            "tensor(6)\n",
            "tensor([[1, 8, 3],\n",
            "        [4, 5, 6]])\n"
          ],
          "name": "stdout"
        }
      ]
    },
    {
      "cell_type": "code",
      "metadata": {
        "id": "MpV2afS0jj2I",
        "colab_type": "code",
        "colab": {
          "base_uri": "https://localhost:8080/",
          "height": 119
        },
        "outputId": "8d33c2a3-da73-43e6-95d4-74b9752b8403"
      },
      "source": [
        "# View \n",
        "x=torch.randn(2,3)\n",
        "print(\"Original \",x)\n",
        "print(\"View 1 \",x.view(1,6))\n",
        "print(\"View 2\",x.view(3,-1))"
      ],
      "execution_count": null,
      "outputs": [
        {
          "output_type": "stream",
          "text": [
            "Original  tensor([[-0.1985, -0.1654, -1.9005],\n",
            "        [ 1.2037,  0.2244, -0.2573]])\n",
            "View 1  tensor([[-0.1985, -0.1654, -1.9005,  1.2037,  0.2244, -0.2573]])\n",
            "View 2 tensor([[-0.1985, -0.1654],\n",
            "        [-1.9005,  1.2037],\n",
            "        [ 0.2244, -0.2573]])\n"
          ],
          "name": "stdout"
        }
      ]
    },
    {
      "cell_type": "code",
      "metadata": {
        "id": "R2fmfnHbzCuR",
        "colab_type": "code",
        "colab": {
          "base_uri": "https://localhost:8080/",
          "height": 51
        },
        "outputId": "18afaec3-f91b-46b8-e341-22c8cfe79f2c"
      },
      "source": [
        "w1=torch.ones(2,3)\n",
        "w1"
      ],
      "execution_count": null,
      "outputs": [
        {
          "output_type": "execute_result",
          "data": {
            "text/plain": [
              "tensor([[1., 1., 1.],\n",
              "        [1., 1., 1.]])"
            ]
          },
          "metadata": {
            "tags": []
          },
          "execution_count": 9
        }
      ]
    },
    {
      "cell_type": "code",
      "metadata": {
        "id": "_8QDjTlHkSEf",
        "colab_type": "code",
        "colab": {
          "base_uri": "https://localhost:8080/",
          "height": 68
        },
        "outputId": "58dbfc2b-f0eb-4efd-d59a-c055f412de5e"
      },
      "source": [
        "## Moving to GPU \n",
        "use_cuda = torch.cuda.is_available()\n",
        "device = torch.device(\"cuda\" if use_cuda else \"cpu\")\n",
        "print(device)\n",
        "\n",
        "w2=w1.to(device)\n",
        "w2"
      ],
      "execution_count": null,
      "outputs": [
        {
          "output_type": "stream",
          "text": [
            "cuda\n"
          ],
          "name": "stdout"
        },
        {
          "output_type": "execute_result",
          "data": {
            "text/plain": [
              "tensor([[1., 1., 1.],\n",
              "        [1., 1., 1.]], device='cuda:0')"
            ]
          },
          "metadata": {
            "tags": []
          },
          "execution_count": 10
        }
      ]
    },
    {
      "cell_type": "code",
      "metadata": {
        "id": "YDd65AHdyb9G",
        "colab_type": "code",
        "colab": {
          "base_uri": "https://localhost:8080/",
          "height": 51
        },
        "outputId": "3d5d7c49-deda-42f5-8ee5-0da491f44be7"
      },
      "source": [
        "w3=torch.randn(2,3,device=device)\n",
        "w3"
      ],
      "execution_count": null,
      "outputs": [
        {
          "output_type": "execute_result",
          "data": {
            "text/plain": [
              "tensor([[-1.0147,  0.7228, -0.8843],\n",
              "        [ 0.3371,  0.0840, -0.2310]], device='cuda:0')"
            ]
          },
          "metadata": {
            "tags": []
          },
          "execution_count": 12
        }
      ]
    },
    {
      "cell_type": "code",
      "metadata": {
        "id": "WVndDSig282a",
        "colab_type": "code",
        "colab": {}
      },
      "source": [
        ""
      ],
      "execution_count": null,
      "outputs": []
    }
  ]
}