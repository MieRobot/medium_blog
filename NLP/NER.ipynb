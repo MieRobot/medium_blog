{
  "nbformat": 4,
  "nbformat_minor": 0,
  "metadata": {
    "colab": {
      "name": "NER.ipynb",
      "provenance": [],
      "collapsed_sections": [],
      "authorship_tag": "ABX9TyP1kXBIV9wJ/LXeE8r2VByV",
      "include_colab_link": true
    },
    "kernelspec": {
      "name": "python3",
      "display_name": "Python 3"
    }
  },
  "cells": [
    {
      "cell_type": "markdown",
      "metadata": {
        "id": "view-in-github",
        "colab_type": "text"
      },
      "source": [
        "<a href=\"https://colab.research.google.com/github/poojamahajan0712/medium_blog/blob/master/NLP/NER.ipynb\" target=\"_parent\"><img src=\"https://colab.research.google.com/assets/colab-badge.svg\" alt=\"Open In Colab\"/></a>"
      ]
    },
    {
      "cell_type": "code",
      "metadata": {
        "id": "7gg3xycMd3R_",
        "colab_type": "code",
        "colab": {}
      },
      "source": [
        "#Importing required libraries\n",
        "import spacy\n",
        "\n",
        "# Loading language model\n",
        "nlp = spacy.load('en_core_web_sm') \n",
        "# 1. spacy.load() is a convenience wrapper that reads the language ID and pipeline components from a model’s meta.json, initializes the Language class, loads in the model data and returns it.\n",
        "# 2. en_core_web_sm- Available pretrained statistical models for English, English multi-task CNN trained on OntoNotes. Assigns context-specific token vectors, POS tags, dependency parse and named entities.\n",
        "\n",
        "\n"
      ],
      "execution_count": null,
      "outputs": []
    },
    {
      "cell_type": "markdown",
      "metadata": {
        "id": "435Zy5q65P4z",
        "colab_type": "text"
      },
      "source": [
        "# 1. Getting entities from document "
      ]
    },
    {
      "cell_type": "code",
      "metadata": {
        "id": "V3A0jhNGeGpQ",
        "colab_type": "code",
        "colab": {
          "base_uri": "https://localhost:8080/",
          "height": 68
        },
        "outputId": "f79aa72e-adb8-49f4-f526-aba6700e2d17"
      },
      "source": [
        "doc = nlp(u'Microsoft Corporation is an American multinational technology company with headquarters in Redmond')\n",
        "\n",
        "for ent in doc.ents:\n",
        "            print(ent.text+' -- '+ent.label_+' -- '+spacy.explain(ent.label_))\n",
        "           \n"
      ],
      "execution_count": null,
      "outputs": [
        {
          "output_type": "stream",
          "text": [
            "Microsoft Corporation -- ORG -- Companies, agencies, institutions, etc.\n",
            "American -- NORP -- Nationalities or religious or political groups\n",
            "Redmond -- GPE -- Countries, cities, states\n"
          ],
          "name": "stdout"
        }
      ]
    },
    {
      "cell_type": "markdown",
      "metadata": {
        "id": "GtaseYgx5L5_",
        "colab_type": "text"
      },
      "source": [
        "# 2. Setting entity annotations\n"
      ]
    },
    {
      "cell_type": "code",
      "metadata": {
        "id": "vORZFrnYiABS",
        "colab_type": "code",
        "colab": {
          "base_uri": "https://localhost:8080/",
          "height": 34
        },
        "outputId": "38123c85-89ac-4f47-a173-965307e872fb"
      },
      "source": [
        "doc = nlp(\"Suprdaily began its journey in the suburbs of Mumbai\")\n",
        "ents = [(e.text, e.start_char, e.end_char, e.label_) for e in doc.ents]\n",
        "print('Before', ents)\n",
        "#Before [('Mumbai', 46, 52, 'GPE')]   the model didn't recognise \"Suprdaily\" as an entity \n",
        "\n"
      ],
      "execution_count": null,
      "outputs": [
        {
          "output_type": "stream",
          "text": [
            "Before [('Mumbai', 46, 52, 'GPE')]\n"
          ],
          "name": "stdout"
        }
      ]
    },
    {
      "cell_type": "code",
      "metadata": {
        "id": "vucVM2D6wSvZ",
        "colab_type": "code",
        "colab": {
          "base_uri": "https://localhost:8080/",
          "height": 34
        },
        "outputId": "1c6acb72-7da9-4b2b-a753-0560e4ae1064"
      },
      "source": [
        "sup_ent = spacy.tokens.Span(doc, 0, 1, label=\"ORG\")\n",
        " # create a Span for the new entity-- Span is a slice from a Doc object.\n",
        "doc.ents = list(doc.ents) + [sup_ent]\n",
        "\n",
        "ents = [(e.text, e.start_char, e.end_char, e.label_) for e in doc.ents]\n",
        "print('After', ents)\n",
        "# After [('Suprdaily', 0, 9, 'ORG'), ('Mumbai', 46, 52, 'GPE')]"
      ],
      "execution_count": null,
      "outputs": [
        {
          "output_type": "stream",
          "text": [
            "After [('Suprdaily', 0, 9, 'ORG'), ('Mumbai', 46, 52, 'GPE')]\n"
          ],
          "name": "stdout"
        }
      ]
    },
    {
      "cell_type": "markdown",
      "metadata": {
        "id": "8Hng0p_l5Ji2",
        "colab_type": "text"
      },
      "source": [
        "# 3. Visualising Entities"
      ]
    },
    {
      "cell_type": "code",
      "metadata": {
        "id": "NanYrCL4wI1y",
        "colab_type": "code",
        "colab": {
          "base_uri": "https://localhost:8080/",
          "height": 52
        },
        "outputId": "10d6c264-f48a-49f0-f422-86eb8cd9314e"
      },
      "source": [
        "spacy.displacy.render(doc, style='ent', jupyter=True)"
      ],
      "execution_count": null,
      "outputs": [
        {
          "output_type": "display_data",
          "data": {
            "text/html": [
              "<span class=\"tex2jax_ignore\"><div class=\"entities\" style=\"line-height: 2.5; direction: ltr\">\n",
              "<mark class=\"entity\" style=\"background: #7aecec; padding: 0.45em 0.6em; margin: 0 0.25em; line-height: 1; border-radius: 0.35em;\">\n",
              "    Suprdaily\n",
              "    <span style=\"font-size: 0.8em; font-weight: bold; line-height: 1; border-radius: 0.35em; text-transform: uppercase; vertical-align: middle; margin-left: 0.5rem\">ORG</span>\n",
              "</mark>\n",
              " began its journey in the suburbs of \n",
              "<mark class=\"entity\" style=\"background: #feca74; padding: 0.45em 0.6em; margin: 0 0.25em; line-height: 1; border-radius: 0.35em;\">\n",
              "    Mumbai\n",
              "    <span style=\"font-size: 0.8em; font-weight: bold; line-height: 1; border-radius: 0.35em; text-transform: uppercase; vertical-align: middle; margin-left: 0.5rem\">GPE</span>\n",
              "</mark>\n",
              "</div></span>"
            ],
            "text/plain": [
              "<IPython.core.display.HTML object>"
            ]
          },
          "metadata": {
            "tags": []
          }
        }
      ]
    },
    {
      "cell_type": "code",
      "metadata": {
        "id": "E96_TFvwhEY8",
        "colab_type": "code",
        "colab": {
          "base_uri": "https://localhost:8080/",
          "height": 52
        },
        "outputId": "9f63fae2-b1ce-49e5-c009-3105666d2f9a"
      },
      "source": [
        "doc = nlp(u'The company also acquired WhiteHat Jr in a deal worth $300 million')\n",
        "spacy.displacy.render(doc, style='ent', jupyter=True)"
      ],
      "execution_count": null,
      "outputs": [
        {
          "output_type": "display_data",
          "data": {
            "text/html": [
              "<span class=\"tex2jax_ignore\"><div class=\"entities\" style=\"line-height: 2.5; direction: ltr\">The company also acquired \n",
              "<mark class=\"entity\" style=\"background: #7aecec; padding: 0.45em 0.6em; margin: 0 0.25em; line-height: 1; border-radius: 0.35em;\">\n",
              "    WhiteHat Jr\n",
              "    <span style=\"font-size: 0.8em; font-weight: bold; line-height: 1; border-radius: 0.35em; text-transform: uppercase; vertical-align: middle; margin-left: 0.5rem\">ORG</span>\n",
              "</mark>\n",
              " in a deal worth \n",
              "<mark class=\"entity\" style=\"background: #e4e7d2; padding: 0.45em 0.6em; margin: 0 0.25em; line-height: 1; border-radius: 0.35em;\">\n",
              "    $300 million\n",
              "    <span style=\"font-size: 0.8em; font-weight: bold; line-height: 1; border-radius: 0.35em; text-transform: uppercase; vertical-align: middle; margin-left: 0.5rem\">MONEY</span>\n",
              "</mark>\n",
              "</div></span>"
            ],
            "text/plain": [
              "<IPython.core.display.HTML object>"
            ]
          },
          "metadata": {
            "tags": []
          }
        }
      ]
    },
    {
      "cell_type": "markdown",
      "metadata": {
        "id": "zS5vB-aW55Eq",
        "colab_type": "text"
      },
      "source": [
        "* Viewing Specific Entities"
      ]
    },
    {
      "cell_type": "code",
      "metadata": {
        "id": "xgwW6OWBj2Xz",
        "colab_type": "code",
        "colab": {
          "base_uri": "https://localhost:8080/",
          "height": 52
        },
        "outputId": "bd913928-2c9d-48c9-9cfe-428d2be9f883"
      },
      "source": [
        "#ents(list)-Entity types to highlight (None for all types),colors(dict)-Color overrides.\n",
        "# Entity types in uppercase should be mapped to color names or values.\n",
        "\n",
        "\n",
        "# Viewing Specific Entities\n",
        "doc = nlp(u'The company also acquired WhiteHat Jr in a deal worth $300 million')\n",
        "colors = {'ORG': 'pink',}\n",
        "options = {'ents': ['ORG'], 'colors':colors}\n",
        "spacy.displacy.render(doc, style='ent', jupyter=True, options=options)"
      ],
      "execution_count": null,
      "outputs": [
        {
          "output_type": "display_data",
          "data": {
            "text/html": [
              "<span class=\"tex2jax_ignore\"><div class=\"entities\" style=\"line-height: 2.5; direction: ltr\">The company also acquired \n",
              "<mark class=\"entity\" style=\"background: pink; padding: 0.45em 0.6em; margin: 0 0.25em; line-height: 1; border-radius: 0.35em;\">\n",
              "    WhiteHat Jr\n",
              "    <span style=\"font-size: 0.8em; font-weight: bold; line-height: 1; border-radius: 0.35em; text-transform: uppercase; vertical-align: middle; margin-left: 0.5rem\">ORG</span>\n",
              "</mark>\n",
              " in a deal worth $300 million</div></span>"
            ],
            "text/plain": [
              "<IPython.core.display.HTML object>"
            ]
          },
          "metadata": {
            "tags": []
          }
        }
      ]
    },
    {
      "cell_type": "code",
      "metadata": {
        "id": "mUwRZT3I64hz",
        "colab_type": "code",
        "colab": {}
      },
      "source": [
        ""
      ],
      "execution_count": null,
      "outputs": []
    }
  ]
}